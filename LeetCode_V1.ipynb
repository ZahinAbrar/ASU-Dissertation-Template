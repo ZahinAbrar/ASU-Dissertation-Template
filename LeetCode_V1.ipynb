{
  "nbformat": 4,
  "nbformat_minor": 0,
  "metadata": {
    "colab": {
      "provenance": [],
      "authorship_tag": "ABX9TyN19FDTQSyHkhU9K5OEWpAA",
      "include_colab_link": true
    },
    "kernelspec": {
      "name": "python3",
      "display_name": "Python 3"
    },
    "language_info": {
      "name": "python"
    }
  },
  "cells": [
    {
      "cell_type": "markdown",
      "metadata": {
        "id": "view-in-github",
        "colab_type": "text"
      },
      "source": [
        "<a href=\"https://colab.research.google.com/github/ZahinAbrar/ASU-Dissertation-Template/blob/main/LeetCode_V1.ipynb\" target=\"_parent\"><img src=\"https://colab.research.google.com/assets/colab-badge.svg\" alt=\"Open In Colab\"/></a>"
      ]
    },
    {
      "cell_type": "markdown",
      "source": [
        "Given the root of a binary tree, return its maximum depth.\n",
        "\n",
        "A binary tree's maximum depth is the number of nodes along the longest path from the root node down to the farthest leaf node."
      ],
      "metadata": {
        "id": "wJQ_8ps8-pUe"
      }
    },
    {
      "cell_type": "code",
      "execution_count": null,
      "metadata": {
        "id": "JF_7-BsJ-mIT"
      },
      "outputs": [],
      "source": [
        "# Definition for a binary tree node.\n",
        "class TreeNode(object):\n",
        "    def __init__(self, val=0, left=None, right=None):\n",
        "        self.val = val\n",
        "        self.left = left\n",
        "        self.right = right\n",
        "class Solution(object):\n",
        "    def maxDepth(self, root):\n",
        "        if not root:\n",
        "            return 0\n",
        "        else:\n",
        "            return 1+ max(self.maxDepth(root.left), self.maxDepth(root.right))\n",
        "        \"\"\"\n",
        "        :type root: TreeNode\n",
        "        :rtype: int\n",
        "        \"\"\""
      ]
    },
    {
      "cell_type": "markdown",
      "source": [
        "Given the root of a binary tree, determine if it is a valid binary search tree (BST).\n",
        "\n",
        "A valid BST is defined as follows:\n",
        "\n",
        "The left subtree of a node contains only nodes with keys less than the node's key.\n",
        "The right subtree of a node contains only nodes with keys greater than the node's key.\n",
        "Both the left and right subtrees must also be binary search trees."
      ],
      "metadata": {
        "id": "i_ozsAriAavu"
      }
    },
    {
      "cell_type": "code",
      "source": [
        "# Definition for a binary tree node.\n",
        "class TreeNode(object):\n",
        "    def __init__(self, val=0, left=None, right=None):\n",
        "        self.val = val\n",
        "        self.left = left\n",
        "#         self.right = right\n",
        "class Solution(object):\n",
        "    def isValidBST(self, root):\n",
        "      if root.left < root and root.right < root:\n",
        "        self.isValidBST(root.left)\n",
        "        self.isValidBST(root.right)\n",
        "\n",
        "\n",
        "\n"
      ],
      "metadata": {
        "id": "GKHQg0F1AYov"
      },
      "execution_count": null,
      "outputs": []
    },
    {
      "cell_type": "code",
      "source": [
        "root = TreeNode([5,1,4,2,8,3,6])\n",
        "Solution.isValidBST(root)\n",
        "\n"
      ],
      "metadata": {
        "colab": {
          "base_uri": "https://localhost:8080/",
          "height": 156
        },
        "id": "FxtX3dCwBuFw",
        "outputId": "5d464019-d882-432b-a398-746b6aafd890"
      },
      "execution_count": null,
      "outputs": [
        {
          "output_type": "error",
          "ename": "TypeError",
          "evalue": "Solution.isValidBST() missing 1 required positional argument: 'root'",
          "traceback": [
            "\u001b[0;31m---------------------------------------------------------------------------\u001b[0m",
            "\u001b[0;31mTypeError\u001b[0m                                 Traceback (most recent call last)",
            "\u001b[0;32m<ipython-input-6-d4a0d9e9165a>\u001b[0m in \u001b[0;36m<cell line: 2>\u001b[0;34m()\u001b[0m\n\u001b[1;32m      1\u001b[0m \u001b[0mroot\u001b[0m \u001b[0;34m=\u001b[0m \u001b[0mTreeNode\u001b[0m\u001b[0;34m(\u001b[0m\u001b[0;34m[\u001b[0m\u001b[0;36m5\u001b[0m\u001b[0;34m,\u001b[0m\u001b[0;36m1\u001b[0m\u001b[0;34m,\u001b[0m\u001b[0;36m4\u001b[0m\u001b[0;34m,\u001b[0m\u001b[0;36m2\u001b[0m\u001b[0;34m,\u001b[0m\u001b[0;36m8\u001b[0m\u001b[0;34m,\u001b[0m\u001b[0;36m3\u001b[0m\u001b[0;34m,\u001b[0m\u001b[0;36m6\u001b[0m\u001b[0;34m]\u001b[0m\u001b[0;34m)\u001b[0m\u001b[0;34m\u001b[0m\u001b[0;34m\u001b[0m\u001b[0m\n\u001b[0;32m----> 2\u001b[0;31m \u001b[0mSolution\u001b[0m\u001b[0;34m.\u001b[0m\u001b[0misValidBST\u001b[0m\u001b[0;34m(\u001b[0m\u001b[0mroot\u001b[0m\u001b[0;34m)\u001b[0m\u001b[0;34m\u001b[0m\u001b[0;34m\u001b[0m\u001b[0m\n\u001b[0m",
            "\u001b[0;31mTypeError\u001b[0m: Solution.isValidBST() missing 1 required positional argument: 'root'"
          ]
        }
      ]
    },
    {
      "cell_type": "markdown",
      "source": [
        "See the following video: https://www.youtube.com/watch?v=s6ATEkipzow"
      ],
      "metadata": {
        "id": "969WoOReU96M"
      }
    },
    {
      "cell_type": "markdown",
      "source": [
        "You are given two integer arrays $nums1$ and $nums2$, sorted in non-decreasing order, and two integers $m$ and $n$, representing the number of elements in $nums1$ and $nums2$ respectively.\n",
        "\n",
        "Merge $nums1$ and $nums2$ into a single array sorted in non-decreasing order.\n",
        "\n",
        "The final sorted array should not be returned by the function, but instead be stored inside the array $nums1$. To accommodate this, $nums1$ has a length of $m + n$, where the first $m$ elements denote the elements that should be merged, and the last $n$ elements are set to 0 and should be ignored. $nums2$ has a length of $n$.\n"
      ],
      "metadata": {
        "id": "8nUdhIZ7QtnC"
      }
    },
    {
      "cell_type": "code",
      "source": [
        "nums1 = [1,2,3,0,0,0]\n",
        "m = 3\n",
        "nums2 = [2,5,6]\n",
        "n = 3\n",
        "nums1=nums1[:m]\n",
        "nums1.sort()\n",
        "nums2=nums2[:n]\n",
        "nums2.sort()\n",
        "for item in nums2:\n",
        "  nums1.append(item)\n",
        "nums1.sort()\n",
        "print(nums1)\n",
        "\n"
      ],
      "metadata": {
        "id": "d9pPunzfAihD",
        "colab": {
          "base_uri": "https://localhost:8080/"
        },
        "outputId": "37bfb998-5d5e-42ef-b686-74d76227cc1c"
      },
      "execution_count": 17,
      "outputs": [
        {
          "output_type": "stream",
          "name": "stdout",
          "text": [
            "[1, 2, 2, 3, 5, 6]\n"
          ]
        }
      ]
    },
    {
      "cell_type": "code",
      "source": [
        "a=[1,4,3,0,0,0]\n",
        "b=[2,5,6]\n",
        "for item in b:\n",
        "  a.append(item)\n",
        "print(a)"
      ],
      "metadata": {
        "colab": {
          "base_uri": "https://localhost:8080/"
        },
        "id": "Ld7Q6sJUTfIL",
        "outputId": "b2906fe8-ae74-433a-c623-e57ae5a95f45"
      },
      "execution_count": 13,
      "outputs": [
        {
          "output_type": "stream",
          "name": "stdout",
          "text": [
            "[1, 4, 3, 0, 0, 0, 2, 5, 6]\n"
          ]
        }
      ]
    },
    {
      "cell_type": "code",
      "source": [
        "nums1 = [1]\n",
        "m = 1\n",
        "nums2 = []\n",
        "n = 0\n",
        "for j in range(n):\n",
        "  nums1[m+j]=nums2[j]\n",
        "nums1.sort()\n",
        "print(nums1)"
      ],
      "metadata": {
        "colab": {
          "base_uri": "https://localhost:8080/"
        },
        "id": "8qZBIQtDaYN9",
        "outputId": "0b4be9d5-a87c-4563-ac52-a7905f8dd78f"
      },
      "execution_count": 3,
      "outputs": [
        {
          "output_type": "stream",
          "name": "stdout",
          "text": [
            "[1]\n"
          ]
        }
      ]
    }
  ]
}